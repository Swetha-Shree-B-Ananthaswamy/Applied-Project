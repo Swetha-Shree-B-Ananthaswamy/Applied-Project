{
 "cells": [
  {
   "cell_type": "code",
   "execution_count": 1,
   "id": "0572d208",
   "metadata": {},
   "outputs": [],
   "source": [
    "import pandas as pd\n",
    "import numpy as np"
   ]
  },
  {
   "cell_type": "code",
   "execution_count": 4,
   "id": "c78c8248",
   "metadata": {},
   "outputs": [],
   "source": [
    "df = pd.read_csv('predictBasedOnSiteAndMonth.csv',parse_dates=['Date']).set_index('Date')"
   ]
  },
  {
   "cell_type": "code",
   "execution_count": 5,
   "id": "5a57f973",
   "metadata": {},
   "outputs": [
    {
     "data": {
      "text/html": [
       "<div>\n",
       "<style scoped>\n",
       "    .dataframe tbody tr th:only-of-type {\n",
       "        vertical-align: middle;\n",
       "    }\n",
       "\n",
       "    .dataframe tbody tr th {\n",
       "        vertical-align: top;\n",
       "    }\n",
       "\n",
       "    .dataframe thead th {\n",
       "        text-align: right;\n",
       "    }\n",
       "</style>\n",
       "<table border=\"1\" class=\"dataframe\">\n",
       "  <thead>\n",
       "    <tr style=\"text-align: right;\">\n",
       "      <th></th>\n",
       "      <th>Site_int</th>\n",
       "      <th>Month_int</th>\n",
       "      <th>SolarProductionDemand</th>\n",
       "      <th>Solar Production</th>\n",
       "      <th>TotalEnergyUsageAcrossSites</th>\n",
       "    </tr>\n",
       "    <tr>\n",
       "      <th>Date</th>\n",
       "      <th></th>\n",
       "      <th></th>\n",
       "      <th></th>\n",
       "      <th></th>\n",
       "      <th></th>\n",
       "    </tr>\n",
       "  </thead>\n",
       "  <tbody>\n",
       "    <tr>\n",
       "      <th>2011-10-01</th>\n",
       "      <td>7</td>\n",
       "      <td>10</td>\n",
       "      <td>277.0</td>\n",
       "      <td>12615.0</td>\n",
       "      <td>16153.0</td>\n",
       "    </tr>\n",
       "    <tr>\n",
       "      <th>2011-11-01</th>\n",
       "      <td>7</td>\n",
       "      <td>9</td>\n",
       "      <td>275.0</td>\n",
       "      <td>10731.0</td>\n",
       "      <td>19221.0</td>\n",
       "    </tr>\n",
       "    <tr>\n",
       "      <th>2011-12-01</th>\n",
       "      <td>7</td>\n",
       "      <td>2</td>\n",
       "      <td>276.0</td>\n",
       "      <td>7362.0</td>\n",
       "      <td>19471.0</td>\n",
       "    </tr>\n",
       "    <tr>\n",
       "      <th>2012-01-01</th>\n",
       "      <td>7</td>\n",
       "      <td>4</td>\n",
       "      <td>276.0</td>\n",
       "      <td>10387.0</td>\n",
       "      <td>26270.0</td>\n",
       "    </tr>\n",
       "    <tr>\n",
       "      <th>2012-02-01</th>\n",
       "      <td>7</td>\n",
       "      <td>3</td>\n",
       "      <td>273.0</td>\n",
       "      <td>10891.0</td>\n",
       "      <td>21316.0</td>\n",
       "    </tr>\n",
       "    <tr>\n",
       "      <th>...</th>\n",
       "      <td>...</td>\n",
       "      <td>...</td>\n",
       "      <td>...</td>\n",
       "      <td>...</td>\n",
       "      <td>...</td>\n",
       "    </tr>\n",
       "    <tr>\n",
       "      <th>2023-02-01</th>\n",
       "      <td>4</td>\n",
       "      <td>3</td>\n",
       "      <td>78.0</td>\n",
       "      <td>28087.0</td>\n",
       "      <td>30206.0</td>\n",
       "    </tr>\n",
       "    <tr>\n",
       "      <th>2023-02-01</th>\n",
       "      <td>5</td>\n",
       "      <td>3</td>\n",
       "      <td>111.4</td>\n",
       "      <td>27923.0</td>\n",
       "      <td>42468.0</td>\n",
       "    </tr>\n",
       "    <tr>\n",
       "      <th>2023-02-01</th>\n",
       "      <td>6</td>\n",
       "      <td>3</td>\n",
       "      <td>55.4</td>\n",
       "      <td>16051.0</td>\n",
       "      <td>21397.0</td>\n",
       "    </tr>\n",
       "    <tr>\n",
       "      <th>2023-02-01</th>\n",
       "      <td>7</td>\n",
       "      <td>3</td>\n",
       "      <td>260.0</td>\n",
       "      <td>1733.0</td>\n",
       "      <td>18727.0</td>\n",
       "    </tr>\n",
       "    <tr>\n",
       "      <th>2023-02-01</th>\n",
       "      <td>8</td>\n",
       "      <td>3</td>\n",
       "      <td>23.6</td>\n",
       "      <td>2003.0</td>\n",
       "      <td>5455.0</td>\n",
       "    </tr>\n",
       "  </tbody>\n",
       "</table>\n",
       "<p>982 rows × 5 columns</p>\n",
       "</div>"
      ],
      "text/plain": [
       "            Site_int  Month_int  SolarProductionDemand  Solar Production   \n",
       "Date                                                                       \n",
       "2011-10-01         7         10                  277.0           12615.0  \\\n",
       "2011-11-01         7          9                  275.0           10731.0   \n",
       "2011-12-01         7          2                  276.0            7362.0   \n",
       "2012-01-01         7          4                  276.0           10387.0   \n",
       "2012-02-01         7          3                  273.0           10891.0   \n",
       "...              ...        ...                    ...               ...   \n",
       "2023-02-01         4          3                   78.0           28087.0   \n",
       "2023-02-01         5          3                  111.4           27923.0   \n",
       "2023-02-01         6          3                   55.4           16051.0   \n",
       "2023-02-01         7          3                  260.0            1733.0   \n",
       "2023-02-01         8          3                   23.6            2003.0   \n",
       "\n",
       "            TotalEnergyUsageAcrossSites  \n",
       "Date                                     \n",
       "2011-10-01                      16153.0  \n",
       "2011-11-01                      19221.0  \n",
       "2011-12-01                      19471.0  \n",
       "2012-01-01                      26270.0  \n",
       "2012-02-01                      21316.0  \n",
       "...                                 ...  \n",
       "2023-02-01                      30206.0  \n",
       "2023-02-01                      42468.0  \n",
       "2023-02-01                      21397.0  \n",
       "2023-02-01                      18727.0  \n",
       "2023-02-01                       5455.0  \n",
       "\n",
       "[982 rows x 5 columns]"
      ]
     },
     "execution_count": 5,
     "metadata": {},
     "output_type": "execute_result"
    }
   ],
   "source": [
    "df"
   ]
  },
  {
   "cell_type": "code",
   "execution_count": 7,
   "id": "6152568f",
   "metadata": {},
   "outputs": [],
   "source": [
    "X = df[['Site_int','Month_int']]\n",
    "y = df[['Solar Production']]"
   ]
  },
  {
   "cell_type": "code",
   "execution_count": 27,
   "id": "f37223f1",
   "metadata": {},
   "outputs": [],
   "source": [
    "X_train ,X_test = X.loc['2011':'2020'],X.loc['2021':]\n",
    "y_train ,y_test = y.loc['2011':'2020'], y.loc['2021':]"
   ]
  },
  {
   "cell_type": "code",
   "execution_count": 26,
   "id": "3c04c287",
   "metadata": {},
   "outputs": [
    {
     "data": {
      "text/plain": [
       "Index([2011, 2012, 2013, 2014, 2015, 2016, 2017, 2018, 2019, 2020], dtype='int32', name='Date')"
      ]
     },
     "execution_count": 26,
     "metadata": {},
     "output_type": "execute_result"
    }
   ],
   "source": [
    "X_train.index.year.unique()"
   ]
  },
  {
   "cell_type": "code",
   "execution_count": 8,
   "id": "74fd963c",
   "metadata": {},
   "outputs": [],
   "source": [
    "# from sklearn.model_selection import train_test_split\n",
    "# X_train ,X_test ,y_train ,y_test = train_test_split(X,y ,test_size=0.2,random_state= 0)"
   ]
  },
  {
   "cell_type": "code",
   "execution_count": 29,
   "id": "16f5394d",
   "metadata": {},
   "outputs": [
    {
     "name": "stderr",
     "output_type": "stream",
     "text": [
      "C:\\Users\\sweth\\AppData\\Local\\Temp\\ipykernel_15720\\3052343480.py:3: DataConversionWarning: A column-vector y was passed when a 1d array was expected. Please change the shape of y to (n_samples,), for example using ravel().\n",
      "  regressor.fit(X_train,y_train)\n"
     ]
    },
    {
     "data": {
      "text/html": [
       "<style>#sk-container-id-5 {color: black;background-color: white;}#sk-container-id-5 pre{padding: 0;}#sk-container-id-5 div.sk-toggleable {background-color: white;}#sk-container-id-5 label.sk-toggleable__label {cursor: pointer;display: block;width: 100%;margin-bottom: 0;padding: 0.3em;box-sizing: border-box;text-align: center;}#sk-container-id-5 label.sk-toggleable__label-arrow:before {content: \"▸\";float: left;margin-right: 0.25em;color: #696969;}#sk-container-id-5 label.sk-toggleable__label-arrow:hover:before {color: black;}#sk-container-id-5 div.sk-estimator:hover label.sk-toggleable__label-arrow:before {color: black;}#sk-container-id-5 div.sk-toggleable__content {max-height: 0;max-width: 0;overflow: hidden;text-align: left;background-color: #f0f8ff;}#sk-container-id-5 div.sk-toggleable__content pre {margin: 0.2em;color: black;border-radius: 0.25em;background-color: #f0f8ff;}#sk-container-id-5 input.sk-toggleable__control:checked~div.sk-toggleable__content {max-height: 200px;max-width: 100%;overflow: auto;}#sk-container-id-5 input.sk-toggleable__control:checked~label.sk-toggleable__label-arrow:before {content: \"▾\";}#sk-container-id-5 div.sk-estimator input.sk-toggleable__control:checked~label.sk-toggleable__label {background-color: #d4ebff;}#sk-container-id-5 div.sk-label input.sk-toggleable__control:checked~label.sk-toggleable__label {background-color: #d4ebff;}#sk-container-id-5 input.sk-hidden--visually {border: 0;clip: rect(1px 1px 1px 1px);clip: rect(1px, 1px, 1px, 1px);height: 1px;margin: -1px;overflow: hidden;padding: 0;position: absolute;width: 1px;}#sk-container-id-5 div.sk-estimator {font-family: monospace;background-color: #f0f8ff;border: 1px dotted black;border-radius: 0.25em;box-sizing: border-box;margin-bottom: 0.5em;}#sk-container-id-5 div.sk-estimator:hover {background-color: #d4ebff;}#sk-container-id-5 div.sk-parallel-item::after {content: \"\";width: 100%;border-bottom: 1px solid gray;flex-grow: 1;}#sk-container-id-5 div.sk-label:hover label.sk-toggleable__label {background-color: #d4ebff;}#sk-container-id-5 div.sk-serial::before {content: \"\";position: absolute;border-left: 1px solid gray;box-sizing: border-box;top: 0;bottom: 0;left: 50%;z-index: 0;}#sk-container-id-5 div.sk-serial {display: flex;flex-direction: column;align-items: center;background-color: white;padding-right: 0.2em;padding-left: 0.2em;position: relative;}#sk-container-id-5 div.sk-item {position: relative;z-index: 1;}#sk-container-id-5 div.sk-parallel {display: flex;align-items: stretch;justify-content: center;background-color: white;position: relative;}#sk-container-id-5 div.sk-item::before, #sk-container-id-5 div.sk-parallel-item::before {content: \"\";position: absolute;border-left: 1px solid gray;box-sizing: border-box;top: 0;bottom: 0;left: 50%;z-index: -1;}#sk-container-id-5 div.sk-parallel-item {display: flex;flex-direction: column;z-index: 1;position: relative;background-color: white;}#sk-container-id-5 div.sk-parallel-item:first-child::after {align-self: flex-end;width: 50%;}#sk-container-id-5 div.sk-parallel-item:last-child::after {align-self: flex-start;width: 50%;}#sk-container-id-5 div.sk-parallel-item:only-child::after {width: 0;}#sk-container-id-5 div.sk-dashed-wrapped {border: 1px dashed gray;margin: 0 0.4em 0.5em 0.4em;box-sizing: border-box;padding-bottom: 0.4em;background-color: white;}#sk-container-id-5 div.sk-label label {font-family: monospace;font-weight: bold;display: inline-block;line-height: 1.2em;}#sk-container-id-5 div.sk-label-container {text-align: center;}#sk-container-id-5 div.sk-container {/* jupyter's `normalize.less` sets `[hidden] { display: none; }` but bootstrap.min.css set `[hidden] { display: none !important; }` so we also need the `!important` here to be able to override the default hidden behavior on the sphinx rendered scikit-learn.org. See: https://github.com/scikit-learn/scikit-learn/issues/21755 */display: inline-block !important;position: relative;}#sk-container-id-5 div.sk-text-repr-fallback {display: none;}</style><div id=\"sk-container-id-5\" class=\"sk-top-container\"><div class=\"sk-text-repr-fallback\"><pre>RandomForestRegressor(n_estimators=50, random_state=0)</pre><b>In a Jupyter environment, please rerun this cell to show the HTML representation or trust the notebook. <br />On GitHub, the HTML representation is unable to render, please try loading this page with nbviewer.org.</b></div><div class=\"sk-container\" hidden><div class=\"sk-item\"><div class=\"sk-estimator sk-toggleable\"><input class=\"sk-toggleable__control sk-hidden--visually\" id=\"sk-estimator-id-5\" type=\"checkbox\" checked><label for=\"sk-estimator-id-5\" class=\"sk-toggleable__label sk-toggleable__label-arrow\">RandomForestRegressor</label><div class=\"sk-toggleable__content\"><pre>RandomForestRegressor(n_estimators=50, random_state=0)</pre></div></div></div></div></div>"
      ],
      "text/plain": [
       "RandomForestRegressor(n_estimators=50, random_state=0)"
      ]
     },
     "execution_count": 29,
     "metadata": {},
     "output_type": "execute_result"
    }
   ],
   "source": [
    "from sklearn.ensemble import RandomForestRegressor\n",
    "regressor = RandomForestRegressor(n_estimators=50,random_state=0)\n",
    "regressor.fit(X_train,y_train)"
   ]
  },
  {
   "cell_type": "code",
   "execution_count": 33,
   "id": "eb7642c8",
   "metadata": {
    "scrolled": true
   },
   "outputs": [
    {
     "data": {
      "text/plain": [
       "array([26432.57377201, 16162.50001837,   353.34798474,  1247.25763518,\n",
       "       26886.52725541, 22183.65106241, 13783.17748413,  4617.96923706,\n",
       "        1623.42      , 31702.67968254, 18200.25736269,   280.68108297,\n",
       "        1516.73305816, 30066.64839827, 25387.56553895, 15486.11721429,\n",
       "        5229.15219276,  1920.16185714, 45550.54345238, 23741.20865007,\n",
       "         395.81309546,  1989.05820224, 40546.8360938 , 35274.94072047,\n",
       "       20005.96823138,  6244.45603318,  2198.868     , 56701.05098374,\n",
       "       30793.89089427,   494.68451759,  2180.89584965, 45478.91199232,\n",
       "       44281.52446204, 25308.7637215 ,  7340.91417091,  2757.64      ,\n",
       "       61587.17757864, 34100.81533428,   698.55876579,  2236.11506566,\n",
       "       51831.87453968, 49015.40369846, 29220.87680952,  8056.12183389,\n",
       "        3138.89066667, 61483.89162476, 35715.40382684,   761.14503053,\n",
       "        2290.64780109, 48296.52859524, 48912.89224155, 29866.26885426,\n",
       "        8081.64514946,  3136.877     , 57069.25701587, 34892.80682451,\n",
       "         632.46994245,  2019.05492247, 46002.3145772 , 43319.33421151,\n",
       "       24253.95946429,  6120.86983916,  2946.356     , 54430.18647763,\n",
       "       31269.1675    ,   600.67589888,  2067.64483311, 45613.55883278,\n",
       "       40130.31376566, 25098.3707013 ,  5956.30551649,  2930.17      ,\n",
       "       47423.30427994, 27651.86045937,   531.97580925,  1792.01130519,\n",
       "       40220.9352316 , 35569.92316659, 25682.15130447,  6239.77304129,\n",
       "        2450.81680952, 40624.50253397, 25021.51393939,   605.55544089,\n",
       "        1632.84112915, 33484.07314824, 29604.9181659 , 22057.19615701,\n",
       "        7055.01946459,  2552.76369048, 30291.37481879, 20919.0645772 ,\n",
       "         475.29128927,  1365.91624601, 27801.46217327, 21976.41627448,\n",
       "       18415.06733117,  4918.32705496,  2345.62066667, 25477.30068709,\n",
       "       16173.05057604,   380.07181335,  1102.20121409, 26004.57279809,\n",
       "       18830.22086228, 14021.53275397,  4087.06201966,  1845.36      ,\n",
       "       26432.57377201, 16162.50001837,   353.34798474,  1247.25763518,\n",
       "       26886.52725541, 22183.65106241, 13783.17748413,  4617.96923706,\n",
       "        1623.42      , 31702.67968254, 18200.25736269,   280.68108297,\n",
       "        1516.73305816, 30066.64839827, 25387.56553895, 15486.11721429,\n",
       "        5229.15219276,  1920.16185714, 45550.54345238, 23741.20865007,\n",
       "         395.81309546,  1989.05820224, 40546.8360938 , 35274.94072047,\n",
       "       20005.96823138,  6244.45603318,  2198.868     , 56701.05098374,\n",
       "       30793.89089427,   494.68451759,  2180.89584965, 45478.91199232,\n",
       "       44281.52446204, 25308.7637215 ,  7340.91417091,  2757.64      ,\n",
       "       61587.17757864, 34100.81533428,   698.55876579,  2236.11506566,\n",
       "       51831.87453968, 49015.40369846, 29220.87680952,  8056.12183389,\n",
       "        3138.89066667, 61483.89162476, 35715.40382684,   761.14503053,\n",
       "        2290.64780109, 48296.52859524, 48912.89224155, 29866.26885426,\n",
       "        8081.64514946,  3136.877     , 57069.25701587, 34892.80682451,\n",
       "         632.46994245,  2019.05492247, 46002.3145772 , 43319.33421151,\n",
       "       24253.95946429,  6120.86983916,  2946.356     , 54430.18647763,\n",
       "       31269.1675    ,   600.67589888,  2067.64483311, 45613.55883278,\n",
       "       40130.31376566, 25098.3707013 ,  5956.30551649,  2930.17      ,\n",
       "       47423.30427994, 27651.86045937,   531.97580925,  1792.01130519,\n",
       "       40220.9352316 , 35569.92316659, 25682.15130447,  6239.77304129,\n",
       "        2450.81680952, 40624.50253397, 25021.51393939,   605.55544089,\n",
       "        1632.84112915, 33484.07314824, 29604.9181659 , 22057.19615701,\n",
       "        7055.01946459,  2552.76369048, 30291.37481879, 20919.0645772 ,\n",
       "         475.29128927,  1365.91624601, 27801.46217327, 21976.41627448,\n",
       "       18415.06733117,  4918.32705496,  2345.62066667, 25477.30068709,\n",
       "       16173.05057604,   380.07181335,  1102.20121409, 26004.57279809,\n",
       "       18830.22086228, 14021.53275397,  4087.06201966,  1845.36      ,\n",
       "       26432.57377201, 16162.50001837,   353.34798474,  1247.25763518,\n",
       "       26886.52725541, 22183.65106241, 13783.17748413,  4617.96923706,\n",
       "        1623.42      , 31702.67968254, 18200.25736269,   280.68108297,\n",
       "        1516.73305816, 30066.64839827, 25387.56553895, 15486.11721429,\n",
       "        5229.15219276,  1920.16185714])"
      ]
     },
     "execution_count": 33,
     "metadata": {},
     "output_type": "execute_result"
    }
   ],
   "source": [
    "y_pred = regressor.predict(X_test)\n",
    "y_pred\n"
   ]
  },
  {
   "cell_type": "code",
   "execution_count": 34,
   "id": "2dce65bd",
   "metadata": {},
   "outputs": [
    {
     "name": "stderr",
     "output_type": "stream",
     "text": [
      "C:\\Users\\sweth\\AppData\\Local\\Temp\\ipykernel_15720\\325993616.py:1: SettingWithCopyWarning: \n",
      "A value is trying to be set on a copy of a slice from a DataFrame.\n",
      "Try using .loc[row_indexer,col_indexer] = value instead\n",
      "\n",
      "See the caveats in the documentation: https://pandas.pydata.org/pandas-docs/stable/user_guide/indexing.html#returning-a-view-versus-a-copy\n",
      "  y_test['pred']=y_pred\n"
     ]
    }
   ],
   "source": [
    "y_test['pred']=y_pred"
   ]
  },
  {
   "cell_type": "code",
   "execution_count": 39,
   "id": "8a0c448c",
   "metadata": {},
   "outputs": [
    {
     "data": {
      "application/vnd.plotly.v1+json": {
       "config": {
        "plotlyServerURL": "https://plot.ly"
       },
       "data": [
        {
         "hovertemplate": "Solar Production=%{x}<br>pred=%{y}<extra></extra>",
         "legendgroup": "",
         "line": {
          "color": "#636efa",
          "dash": "solid"
         },
         "marker": {
          "symbol": "circle"
         },
         "mode": "lines",
         "name": "",
         "orientation": "v",
         "showlegend": false,
         "type": "scatter",
         "x": [
          0,
          0,
          0,
          0,
          0,
          0,
          0,
          0,
          0,
          0,
          0,
          30,
          451,
          554,
          618,
          633,
          637,
          655,
          714,
          740,
          765,
          780,
          800,
          802,
          802,
          824,
          848,
          863,
          882,
          899,
          908,
          917,
          926,
          963,
          1040,
          1064,
          1328,
          1350,
          1446,
          1457,
          1466,
          1507,
          1537,
          1555,
          1563,
          1598,
          1603,
          1718,
          1733,
          1740,
          1840,
          1841,
          1871,
          1884,
          1910,
          1925,
          1941,
          1948,
          1975,
          1987,
          2003,
          2106,
          2140,
          2148,
          2151,
          2154,
          2180,
          2188,
          2196,
          2217,
          2229,
          2264,
          2314,
          2339,
          2344,
          2392,
          2392,
          2403,
          2441,
          2441,
          2462,
          2464,
          2489,
          2490,
          2501,
          2520,
          2555,
          2591,
          2612,
          2707,
          2721,
          2741,
          2851,
          2853,
          2861,
          2871,
          2895,
          2899,
          2926,
          3002,
          3008,
          3023,
          3046,
          3086,
          3326,
          3396,
          3431,
          3497,
          3509,
          3585,
          4252,
          6424,
          7045,
          7926,
          8128,
          8242,
          9155,
          9917,
          10652,
          11611,
          12057,
          12499,
          12499,
          12542,
          13099,
          13385,
          14886,
          14956,
          15034,
          15771,
          15959,
          16051,
          16396,
          17143,
          17331,
          18465,
          18465,
          18726,
          19545,
          19883,
          20332,
          20535,
          20535,
          20766,
          20777,
          20962,
          21456,
          21492,
          21909,
          22403,
          23176,
          23629,
          24031,
          24246,
          24289,
          24365,
          24619,
          24909,
          24943,
          25040,
          25092,
          25301,
          25492,
          25551,
          25803,
          26239,
          26344,
          26521,
          26802,
          26897,
          27258,
          27923,
          28087,
          28330,
          28427,
          28932,
          29401,
          29573,
          29718,
          29781,
          30134,
          30142,
          30171,
          30367,
          30815,
          30816,
          30952,
          31472,
          31950,
          32007,
          32036,
          33072,
          33652,
          34190,
          34320,
          34743,
          35357,
          36714,
          37222,
          37768,
          38333,
          38457,
          39008,
          39445,
          39608,
          39812,
          41048,
          41239,
          41682,
          41710,
          42689,
          43052,
          44679,
          44706,
          44990,
          47398,
          47730,
          48530,
          49050,
          49068,
          49437,
          50438,
          51420,
          52196,
          54174,
          54623,
          55716,
          58413,
          61438,
          61445,
          62072,
          63782,
          69871,
          70835
         ],
         "xaxis": "x",
         "y": [
          51831.87453968255,
          35569.92316658604,
          29604.918165902352,
          395.81309546009544,
          48296.5285952381,
          5229.152192761487,
          494.6845175935178,
          280.681082972583,
          40130.31376565632,
          4617.9692370554285,
          353.34798473748475,
          698.5587657897659,
          6244.456033175889,
          353.34798473748475,
          380.0718133533135,
          353.34798473748475,
          380.0718133533135,
          40220.93523160173,
          280.681082972583,
          280.681082972583,
          632.4699424464424,
          475.29128926628925,
          605.5554408924409,
          475.29128926628925,
          605.5554408924409,
          600.6758988788987,
          531.9758092463093,
          531.9758092463093,
          600.6758988788987,
          395.81309546009544,
          761.1450305348245,
          632.4699424464424,
          761.1450305348245,
          6120.86983916084,
          698.5587657897659,
          494.6845175935178,
          7340.914170912421,
          1247.2576351752825,
          4617.9692370554285,
          1102.2012140914637,
          1102.2012140914637,
          4087.0620196600776,
          1845.36,
          1247.2576351752825,
          4087.0620196600776,
          1247.2576351752825,
          1845.36,
          2345.6206666666667,
          5229.152192761487,
          1516.733058164058,
          1365.9162460056282,
          1516.733058164058,
          1623.42,
          8081.645149461647,
          4617.9692370554285,
          2345.6206666666667,
          4918.327054959486,
          1623.42,
          1516.733058164058,
          1365.9162460056282,
          1920.1618571428573,
          7055.019464590964,
          1632.8411291486284,
          5229.152192761487,
          2019.054922466422,
          4918.327054959486,
          5956.30551648515,
          1632.8411291486284,
          1623.42,
          8056.121833888336,
          6239.773041292043,
          1989.0582022422016,
          1920.1618571428573,
          1792.0113051948051,
          6244.456033175889,
          2067.644833111333,
          1920.1618571428573,
          1792.0113051948051,
          7055.019464590964,
          2450.8168095238098,
          2067.644833111333,
          2552.7636904761903,
          2180.8958496503496,
          2450.8168095238098,
          2552.7636904761903,
          2019.054922466422,
          2290.6478010878004,
          1989.0582022422016,
          6239.773041292043,
          6120.86983916084,
          2290.6478010878004,
          8081.645149461647,
          2930.1700000000005,
          2198.868,
          2236.115065656565,
          7340.914170912421,
          2236.115065656565,
          2198.868,
          2930.1700000000005,
          3136.877,
          2180.8958496503496,
          3136.877,
          2757.6399999999994,
          2946.3559999999998,
          2946.3559999999998,
          8056.121833888336,
          2757.6399999999994,
          3138.8906666666667,
          3138.8906666666667,
          43319.33421151207,
          5956.30551648515,
          16173.050576035073,
          31269.16750000001,
          48296.5285952381,
          46002.314577200574,
          20919.064577200577,
          16162.50001837052,
          25021.513939393946,
          14021.532753968255,
          18200.257362692864,
          46002.314577200574,
          13783.177484126983,
          14021.532753968255,
          15486.11721428572,
          27651.86045937395,
          13783.177484126983,
          13783.177484126983,
          15486.11721428572,
          22183.651062406345,
          18415.06733116883,
          16173.050576035073,
          15486.11721428572,
          45478.911992318135,
          22057.19615700966,
          18200.257362692864,
          18200.257362692864,
          16162.50001837052,
          16162.50001837052,
          25098.37070129869,
          20005.968231379735,
          22183.651062406345,
          18415.06733116883,
          22057.19615700966,
          25682.151304473296,
          25682.151304473296,
          18830.220862279657,
          20919.064577200577,
          18830.220862279657,
          24253.959464285712,
          45613.558832778326,
          26004.572798090805,
          26004.572798090805,
          34892.80682450882,
          25021.513939393946,
          22183.651062406345,
          25308.763721500723,
          25477.30068709069,
          25098.37070129869,
          20005.968231379735,
          29220.876809523805,
          25477.30068709069,
          23741.20865007216,
          21976.416274483137,
          26886.527255411256,
          21976.416274483137,
          26886.527255411256,
          24253.959464285712,
          25387.56553895154,
          29866.268854256854,
          26432.573772005766,
          27801.46217327117,
          25387.56553895154,
          30066.64839826839,
          26886.527255411256,
          30793.890894272394,
          27651.86045937395,
          29866.268854256854,
          34892.80682450882,
          23741.20865007216,
          31702.67968253969,
          29220.876809523805,
          31269.16750000001,
          25387.56553895154,
          30291.37481879232,
          26432.573772005766,
          26432.573772005766,
          25308.763721500723,
          30793.890894272394,
          27801.46217327117,
          35274.94072046909,
          34100.815334276835,
          35715.40382683982,
          30066.64839826839,
          30291.37481879232,
          35715.40382683982,
          34100.815334276835,
          30066.64839826839,
          29604.918165902352,
          31702.67968253969,
          33484.073148240655,
          33484.073148240655,
          35569.92316658604,
          40546.83609379509,
          31702.67968253969,
          40220.93523160173,
          48912.89224154626,
          35274.94072046909,
          40546.83609379509,
          45613.558832778326,
          44281.52446204322,
          40624.50253396604,
          48912.89224154626,
          40624.50253396604,
          40130.31376565632,
          43319.33421151207,
          45550.54345238097,
          45478.911992318135,
          49015.40369846252,
          47423.30427994228,
          54430.186477633455,
          44281.52446204322,
          47423.30427994228,
          51831.87453968255,
          45550.54345238097,
          57069.257015873016,
          61483.89162476413,
          54430.186477633455,
          49015.40369846252,
          61483.89162476413,
          56701.050983738496,
          56701.050983738496,
          57069.257015873016,
          61587.17757864357,
          61587.17757864357
         ],
         "yaxis": "y"
        }
       ],
       "layout": {
        "legend": {
         "tracegroupgap": 0
        },
        "template": {
         "data": {
          "bar": [
           {
            "error_x": {
             "color": "#2a3f5f"
            },
            "error_y": {
             "color": "#2a3f5f"
            },
            "marker": {
             "line": {
              "color": "#E5ECF6",
              "width": 0.5
             },
             "pattern": {
              "fillmode": "overlay",
              "size": 10,
              "solidity": 0.2
             }
            },
            "type": "bar"
           }
          ],
          "barpolar": [
           {
            "marker": {
             "line": {
              "color": "#E5ECF6",
              "width": 0.5
             },
             "pattern": {
              "fillmode": "overlay",
              "size": 10,
              "solidity": 0.2
             }
            },
            "type": "barpolar"
           }
          ],
          "carpet": [
           {
            "aaxis": {
             "endlinecolor": "#2a3f5f",
             "gridcolor": "white",
             "linecolor": "white",
             "minorgridcolor": "white",
             "startlinecolor": "#2a3f5f"
            },
            "baxis": {
             "endlinecolor": "#2a3f5f",
             "gridcolor": "white",
             "linecolor": "white",
             "minorgridcolor": "white",
             "startlinecolor": "#2a3f5f"
            },
            "type": "carpet"
           }
          ],
          "choropleth": [
           {
            "colorbar": {
             "outlinewidth": 0,
             "ticks": ""
            },
            "type": "choropleth"
           }
          ],
          "contour": [
           {
            "colorbar": {
             "outlinewidth": 0,
             "ticks": ""
            },
            "colorscale": [
             [
              0,
              "#0d0887"
             ],
             [
              0.1111111111111111,
              "#46039f"
             ],
             [
              0.2222222222222222,
              "#7201a8"
             ],
             [
              0.3333333333333333,
              "#9c179e"
             ],
             [
              0.4444444444444444,
              "#bd3786"
             ],
             [
              0.5555555555555556,
              "#d8576b"
             ],
             [
              0.6666666666666666,
              "#ed7953"
             ],
             [
              0.7777777777777778,
              "#fb9f3a"
             ],
             [
              0.8888888888888888,
              "#fdca26"
             ],
             [
              1,
              "#f0f921"
             ]
            ],
            "type": "contour"
           }
          ],
          "contourcarpet": [
           {
            "colorbar": {
             "outlinewidth": 0,
             "ticks": ""
            },
            "type": "contourcarpet"
           }
          ],
          "heatmap": [
           {
            "colorbar": {
             "outlinewidth": 0,
             "ticks": ""
            },
            "colorscale": [
             [
              0,
              "#0d0887"
             ],
             [
              0.1111111111111111,
              "#46039f"
             ],
             [
              0.2222222222222222,
              "#7201a8"
             ],
             [
              0.3333333333333333,
              "#9c179e"
             ],
             [
              0.4444444444444444,
              "#bd3786"
             ],
             [
              0.5555555555555556,
              "#d8576b"
             ],
             [
              0.6666666666666666,
              "#ed7953"
             ],
             [
              0.7777777777777778,
              "#fb9f3a"
             ],
             [
              0.8888888888888888,
              "#fdca26"
             ],
             [
              1,
              "#f0f921"
             ]
            ],
            "type": "heatmap"
           }
          ],
          "heatmapgl": [
           {
            "colorbar": {
             "outlinewidth": 0,
             "ticks": ""
            },
            "colorscale": [
             [
              0,
              "#0d0887"
             ],
             [
              0.1111111111111111,
              "#46039f"
             ],
             [
              0.2222222222222222,
              "#7201a8"
             ],
             [
              0.3333333333333333,
              "#9c179e"
             ],
             [
              0.4444444444444444,
              "#bd3786"
             ],
             [
              0.5555555555555556,
              "#d8576b"
             ],
             [
              0.6666666666666666,
              "#ed7953"
             ],
             [
              0.7777777777777778,
              "#fb9f3a"
             ],
             [
              0.8888888888888888,
              "#fdca26"
             ],
             [
              1,
              "#f0f921"
             ]
            ],
            "type": "heatmapgl"
           }
          ],
          "histogram": [
           {
            "marker": {
             "pattern": {
              "fillmode": "overlay",
              "size": 10,
              "solidity": 0.2
             }
            },
            "type": "histogram"
           }
          ],
          "histogram2d": [
           {
            "colorbar": {
             "outlinewidth": 0,
             "ticks": ""
            },
            "colorscale": [
             [
              0,
              "#0d0887"
             ],
             [
              0.1111111111111111,
              "#46039f"
             ],
             [
              0.2222222222222222,
              "#7201a8"
             ],
             [
              0.3333333333333333,
              "#9c179e"
             ],
             [
              0.4444444444444444,
              "#bd3786"
             ],
             [
              0.5555555555555556,
              "#d8576b"
             ],
             [
              0.6666666666666666,
              "#ed7953"
             ],
             [
              0.7777777777777778,
              "#fb9f3a"
             ],
             [
              0.8888888888888888,
              "#fdca26"
             ],
             [
              1,
              "#f0f921"
             ]
            ],
            "type": "histogram2d"
           }
          ],
          "histogram2dcontour": [
           {
            "colorbar": {
             "outlinewidth": 0,
             "ticks": ""
            },
            "colorscale": [
             [
              0,
              "#0d0887"
             ],
             [
              0.1111111111111111,
              "#46039f"
             ],
             [
              0.2222222222222222,
              "#7201a8"
             ],
             [
              0.3333333333333333,
              "#9c179e"
             ],
             [
              0.4444444444444444,
              "#bd3786"
             ],
             [
              0.5555555555555556,
              "#d8576b"
             ],
             [
              0.6666666666666666,
              "#ed7953"
             ],
             [
              0.7777777777777778,
              "#fb9f3a"
             ],
             [
              0.8888888888888888,
              "#fdca26"
             ],
             [
              1,
              "#f0f921"
             ]
            ],
            "type": "histogram2dcontour"
           }
          ],
          "mesh3d": [
           {
            "colorbar": {
             "outlinewidth": 0,
             "ticks": ""
            },
            "type": "mesh3d"
           }
          ],
          "parcoords": [
           {
            "line": {
             "colorbar": {
              "outlinewidth": 0,
              "ticks": ""
             }
            },
            "type": "parcoords"
           }
          ],
          "pie": [
           {
            "automargin": true,
            "type": "pie"
           }
          ],
          "scatter": [
           {
            "fillpattern": {
             "fillmode": "overlay",
             "size": 10,
             "solidity": 0.2
            },
            "type": "scatter"
           }
          ],
          "scatter3d": [
           {
            "line": {
             "colorbar": {
              "outlinewidth": 0,
              "ticks": ""
             }
            },
            "marker": {
             "colorbar": {
              "outlinewidth": 0,
              "ticks": ""
             }
            },
            "type": "scatter3d"
           }
          ],
          "scattercarpet": [
           {
            "marker": {
             "colorbar": {
              "outlinewidth": 0,
              "ticks": ""
             }
            },
            "type": "scattercarpet"
           }
          ],
          "scattergeo": [
           {
            "marker": {
             "colorbar": {
              "outlinewidth": 0,
              "ticks": ""
             }
            },
            "type": "scattergeo"
           }
          ],
          "scattergl": [
           {
            "marker": {
             "colorbar": {
              "outlinewidth": 0,
              "ticks": ""
             }
            },
            "type": "scattergl"
           }
          ],
          "scattermapbox": [
           {
            "marker": {
             "colorbar": {
              "outlinewidth": 0,
              "ticks": ""
             }
            },
            "type": "scattermapbox"
           }
          ],
          "scatterpolar": [
           {
            "marker": {
             "colorbar": {
              "outlinewidth": 0,
              "ticks": ""
             }
            },
            "type": "scatterpolar"
           }
          ],
          "scatterpolargl": [
           {
            "marker": {
             "colorbar": {
              "outlinewidth": 0,
              "ticks": ""
             }
            },
            "type": "scatterpolargl"
           }
          ],
          "scatterternary": [
           {
            "marker": {
             "colorbar": {
              "outlinewidth": 0,
              "ticks": ""
             }
            },
            "type": "scatterternary"
           }
          ],
          "surface": [
           {
            "colorbar": {
             "outlinewidth": 0,
             "ticks": ""
            },
            "colorscale": [
             [
              0,
              "#0d0887"
             ],
             [
              0.1111111111111111,
              "#46039f"
             ],
             [
              0.2222222222222222,
              "#7201a8"
             ],
             [
              0.3333333333333333,
              "#9c179e"
             ],
             [
              0.4444444444444444,
              "#bd3786"
             ],
             [
              0.5555555555555556,
              "#d8576b"
             ],
             [
              0.6666666666666666,
              "#ed7953"
             ],
             [
              0.7777777777777778,
              "#fb9f3a"
             ],
             [
              0.8888888888888888,
              "#fdca26"
             ],
             [
              1,
              "#f0f921"
             ]
            ],
            "type": "surface"
           }
          ],
          "table": [
           {
            "cells": {
             "fill": {
              "color": "#EBF0F8"
             },
             "line": {
              "color": "white"
             }
            },
            "header": {
             "fill": {
              "color": "#C8D4E3"
             },
             "line": {
              "color": "white"
             }
            },
            "type": "table"
           }
          ]
         },
         "layout": {
          "annotationdefaults": {
           "arrowcolor": "#2a3f5f",
           "arrowhead": 0,
           "arrowwidth": 1
          },
          "autotypenumbers": "strict",
          "coloraxis": {
           "colorbar": {
            "outlinewidth": 0,
            "ticks": ""
           }
          },
          "colorscale": {
           "diverging": [
            [
             0,
             "#8e0152"
            ],
            [
             0.1,
             "#c51b7d"
            ],
            [
             0.2,
             "#de77ae"
            ],
            [
             0.3,
             "#f1b6da"
            ],
            [
             0.4,
             "#fde0ef"
            ],
            [
             0.5,
             "#f7f7f7"
            ],
            [
             0.6,
             "#e6f5d0"
            ],
            [
             0.7,
             "#b8e186"
            ],
            [
             0.8,
             "#7fbc41"
            ],
            [
             0.9,
             "#4d9221"
            ],
            [
             1,
             "#276419"
            ]
           ],
           "sequential": [
            [
             0,
             "#0d0887"
            ],
            [
             0.1111111111111111,
             "#46039f"
            ],
            [
             0.2222222222222222,
             "#7201a8"
            ],
            [
             0.3333333333333333,
             "#9c179e"
            ],
            [
             0.4444444444444444,
             "#bd3786"
            ],
            [
             0.5555555555555556,
             "#d8576b"
            ],
            [
             0.6666666666666666,
             "#ed7953"
            ],
            [
             0.7777777777777778,
             "#fb9f3a"
            ],
            [
             0.8888888888888888,
             "#fdca26"
            ],
            [
             1,
             "#f0f921"
            ]
           ],
           "sequentialminus": [
            [
             0,
             "#0d0887"
            ],
            [
             0.1111111111111111,
             "#46039f"
            ],
            [
             0.2222222222222222,
             "#7201a8"
            ],
            [
             0.3333333333333333,
             "#9c179e"
            ],
            [
             0.4444444444444444,
             "#bd3786"
            ],
            [
             0.5555555555555556,
             "#d8576b"
            ],
            [
             0.6666666666666666,
             "#ed7953"
            ],
            [
             0.7777777777777778,
             "#fb9f3a"
            ],
            [
             0.8888888888888888,
             "#fdca26"
            ],
            [
             1,
             "#f0f921"
            ]
           ]
          },
          "colorway": [
           "#636efa",
           "#EF553B",
           "#00cc96",
           "#ab63fa",
           "#FFA15A",
           "#19d3f3",
           "#FF6692",
           "#B6E880",
           "#FF97FF",
           "#FECB52"
          ],
          "font": {
           "color": "#2a3f5f"
          },
          "geo": {
           "bgcolor": "white",
           "lakecolor": "white",
           "landcolor": "#E5ECF6",
           "showlakes": true,
           "showland": true,
           "subunitcolor": "white"
          },
          "hoverlabel": {
           "align": "left"
          },
          "hovermode": "closest",
          "mapbox": {
           "style": "light"
          },
          "paper_bgcolor": "white",
          "plot_bgcolor": "#E5ECF6",
          "polar": {
           "angularaxis": {
            "gridcolor": "white",
            "linecolor": "white",
            "ticks": ""
           },
           "bgcolor": "#E5ECF6",
           "radialaxis": {
            "gridcolor": "white",
            "linecolor": "white",
            "ticks": ""
           }
          },
          "scene": {
           "xaxis": {
            "backgroundcolor": "#E5ECF6",
            "gridcolor": "white",
            "gridwidth": 2,
            "linecolor": "white",
            "showbackground": true,
            "ticks": "",
            "zerolinecolor": "white"
           },
           "yaxis": {
            "backgroundcolor": "#E5ECF6",
            "gridcolor": "white",
            "gridwidth": 2,
            "linecolor": "white",
            "showbackground": true,
            "ticks": "",
            "zerolinecolor": "white"
           },
           "zaxis": {
            "backgroundcolor": "#E5ECF6",
            "gridcolor": "white",
            "gridwidth": 2,
            "linecolor": "white",
            "showbackground": true,
            "ticks": "",
            "zerolinecolor": "white"
           }
          },
          "shapedefaults": {
           "line": {
            "color": "#2a3f5f"
           }
          },
          "ternary": {
           "aaxis": {
            "gridcolor": "white",
            "linecolor": "white",
            "ticks": ""
           },
           "baxis": {
            "gridcolor": "white",
            "linecolor": "white",
            "ticks": ""
           },
           "bgcolor": "#E5ECF6",
           "caxis": {
            "gridcolor": "white",
            "linecolor": "white",
            "ticks": ""
           }
          },
          "title": {
           "x": 0.05
          },
          "xaxis": {
           "automargin": true,
           "gridcolor": "white",
           "linecolor": "white",
           "ticks": "",
           "title": {
            "standoff": 15
           },
           "zerolinecolor": "white",
           "zerolinewidth": 2
          },
          "yaxis": {
           "automargin": true,
           "gridcolor": "white",
           "linecolor": "white",
           "ticks": "",
           "title": {
            "standoff": 15
           },
           "zerolinecolor": "white",
           "zerolinewidth": 2
          }
         }
        },
        "title": {
         "text": "Predicted Solar Production vs Actual Solar production Map:)"
        },
        "xaxis": {
         "anchor": "y",
         "domain": [
          0,
          1
         ],
         "title": {
          "text": "Solar Production"
         }
        },
        "yaxis": {
         "anchor": "x",
         "domain": [
          0,
          1
         ],
         "title": {
          "text": "pred"
         }
        }
       }
      },
      "text/html": [
       "<div>                            <div id=\"64b91665-7768-42ab-aca9-f66eb81e5b01\" class=\"plotly-graph-div\" style=\"height:525px; width:100%;\"></div>            <script type=\"text/javascript\">                require([\"plotly\"], function(Plotly) {                    window.PLOTLYENV=window.PLOTLYENV || {};                                    if (document.getElementById(\"64b91665-7768-42ab-aca9-f66eb81e5b01\")) {                    Plotly.newPlot(                        \"64b91665-7768-42ab-aca9-f66eb81e5b01\",                        [{\"hovertemplate\":\"Solar Production=%{x}<br>pred=%{y}<extra></extra>\",\"legendgroup\":\"\",\"line\":{\"color\":\"#636efa\",\"dash\":\"solid\"},\"marker\":{\"symbol\":\"circle\"},\"mode\":\"lines\",\"name\":\"\",\"orientation\":\"v\",\"showlegend\":false,\"x\":[0.0,0.0,0.0,0.0,0.0,0.0,0.0,0.0,0.0,0.0,0.0,30.0,451.0,554.0,618.0,633.0,637.0,655.0,714.0,740.0,765.0,780.0,800.0,802.0,802.0,824.0,848.0,863.0,882.0,899.0,908.0,917.0,926.0,963.0,1040.0,1064.0,1328.0,1350.0,1446.0,1457.0,1466.0,1507.0,1537.0,1555.0,1563.0,1598.0,1603.0,1718.0,1733.0,1740.0,1840.0,1841.0,1871.0,1884.0,1910.0,1925.0,1941.0,1948.0,1975.0,1987.0,2003.0,2106.0,2140.0,2148.0,2151.0,2154.0,2180.0,2188.0,2196.0,2217.0,2229.0,2264.0,2314.0,2339.0,2344.0,2392.0,2392.0,2403.0,2441.0,2441.0,2462.0,2464.0,2489.0,2490.0,2501.0,2520.0,2555.0,2591.0,2612.0,2707.0,2721.0,2741.0,2851.0,2853.0,2861.0,2871.0,2895.0,2899.0,2926.0,3002.0,3008.0,3023.0,3046.0,3086.0,3326.0,3396.0,3431.0,3497.0,3509.0,3585.0,4252.0,6424.0,7045.0,7926.0,8128.0,8242.0,9155.0,9917.0,10652.0,11611.0,12057.0,12499.0,12499.0,12542.0,13099.0,13385.0,14886.0,14956.0,15034.0,15771.0,15959.0,16051.0,16396.0,17143.0,17331.0,18465.0,18465.0,18726.0,19545.0,19883.0,20332.0,20535.0,20535.0,20766.0,20777.0,20962.0,21456.0,21492.0,21909.0,22403.0,23176.0,23629.0,24031.0,24246.0,24289.0,24365.0,24619.0,24909.0,24943.0,25040.0,25092.0,25301.0,25492.0,25551.0,25803.0,26239.0,26344.0,26521.0,26802.0,26897.0,27258.0,27923.0,28087.0,28330.0,28427.0,28932.0,29401.0,29573.0,29718.0,29781.0,30134.0,30142.0,30171.0,30367.0,30815.0,30816.0,30952.0,31472.0,31950.0,32007.0,32036.0,33072.0,33652.0,34190.0,34320.0,34743.0,35357.0,36714.0,37222.0,37768.0,38333.0,38457.0,39008.0,39445.0,39608.0,39812.0,41048.0,41239.0,41682.0,41710.0,42689.0,43052.0,44679.0,44706.0,44990.0,47398.0,47730.0,48530.0,49050.0,49068.0,49437.0,50438.0,51420.0,52196.0,54174.0,54623.0,55716.0,58413.0,61438.0,61445.0,62072.0,63782.0,69871.0,70835.0],\"xaxis\":\"x\",\"y\":[51831.87453968255,35569.92316658604,29604.918165902352,395.81309546009544,48296.5285952381,5229.152192761487,494.6845175935178,280.681082972583,40130.31376565632,4617.9692370554285,353.34798473748475,698.5587657897659,6244.456033175889,353.34798473748475,380.0718133533135,353.34798473748475,380.0718133533135,40220.93523160173,280.681082972583,280.681082972583,632.4699424464424,475.29128926628925,605.5554408924409,475.29128926628925,605.5554408924409,600.6758988788987,531.9758092463093,531.9758092463093,600.6758988788987,395.81309546009544,761.1450305348245,632.4699424464424,761.1450305348245,6120.86983916084,698.5587657897659,494.6845175935178,7340.914170912421,1247.2576351752825,4617.9692370554285,1102.2012140914637,1102.2012140914637,4087.0620196600776,1845.36,1247.2576351752825,4087.0620196600776,1247.2576351752825,1845.36,2345.6206666666667,5229.152192761487,1516.733058164058,1365.9162460056282,1516.733058164058,1623.42,8081.645149461647,4617.9692370554285,2345.6206666666667,4918.327054959486,1623.42,1516.733058164058,1365.9162460056282,1920.1618571428573,7055.019464590964,1632.8411291486284,5229.152192761487,2019.054922466422,4918.327054959486,5956.30551648515,1632.8411291486284,1623.42,8056.121833888336,6239.773041292043,1989.0582022422016,1920.1618571428573,1792.0113051948051,6244.456033175889,2067.644833111333,1920.1618571428573,1792.0113051948051,7055.019464590964,2450.8168095238098,2067.644833111333,2552.7636904761903,2180.8958496503496,2450.8168095238098,2552.7636904761903,2019.054922466422,2290.6478010878004,1989.0582022422016,6239.773041292043,6120.86983916084,2290.6478010878004,8081.645149461647,2930.1700000000005,2198.868,2236.115065656565,7340.914170912421,2236.115065656565,2198.868,2930.1700000000005,3136.877,2180.8958496503496,3136.877,2757.6399999999994,2946.3559999999998,2946.3559999999998,8056.121833888336,2757.6399999999994,3138.8906666666667,3138.8906666666667,43319.33421151207,5956.30551648515,16173.050576035073,31269.16750000001,48296.5285952381,46002.314577200574,20919.064577200577,16162.50001837052,25021.513939393946,14021.532753968255,18200.257362692864,46002.314577200574,13783.177484126983,14021.532753968255,15486.11721428572,27651.86045937395,13783.177484126983,13783.177484126983,15486.11721428572,22183.651062406345,18415.06733116883,16173.050576035073,15486.11721428572,45478.911992318135,22057.19615700966,18200.257362692864,18200.257362692864,16162.50001837052,16162.50001837052,25098.37070129869,20005.968231379735,22183.651062406345,18415.06733116883,22057.19615700966,25682.151304473296,25682.151304473296,18830.220862279657,20919.064577200577,18830.220862279657,24253.959464285712,45613.558832778326,26004.572798090805,26004.572798090805,34892.80682450882,25021.513939393946,22183.651062406345,25308.763721500723,25477.30068709069,25098.37070129869,20005.968231379735,29220.876809523805,25477.30068709069,23741.20865007216,21976.416274483137,26886.527255411256,21976.416274483137,26886.527255411256,24253.959464285712,25387.56553895154,29866.268854256854,26432.573772005766,27801.46217327117,25387.56553895154,30066.64839826839,26886.527255411256,30793.890894272394,27651.86045937395,29866.268854256854,34892.80682450882,23741.20865007216,31702.67968253969,29220.876809523805,31269.16750000001,25387.56553895154,30291.37481879232,26432.573772005766,26432.573772005766,25308.763721500723,30793.890894272394,27801.46217327117,35274.94072046909,34100.815334276835,35715.40382683982,30066.64839826839,30291.37481879232,35715.40382683982,34100.815334276835,30066.64839826839,29604.918165902352,31702.67968253969,33484.073148240655,33484.073148240655,35569.92316658604,40546.83609379509,31702.67968253969,40220.93523160173,48912.89224154626,35274.94072046909,40546.83609379509,45613.558832778326,44281.52446204322,40624.50253396604,48912.89224154626,40624.50253396604,40130.31376565632,43319.33421151207,45550.54345238097,45478.911992318135,49015.40369846252,47423.30427994228,54430.186477633455,44281.52446204322,47423.30427994228,51831.87453968255,45550.54345238097,57069.257015873016,61483.89162476413,54430.186477633455,49015.40369846252,61483.89162476413,56701.050983738496,56701.050983738496,57069.257015873016,61587.17757864357,61587.17757864357],\"yaxis\":\"y\",\"type\":\"scatter\"}],                        {\"template\":{\"data\":{\"histogram2dcontour\":[{\"type\":\"histogram2dcontour\",\"colorbar\":{\"outlinewidth\":0,\"ticks\":\"\"},\"colorscale\":[[0.0,\"#0d0887\"],[0.1111111111111111,\"#46039f\"],[0.2222222222222222,\"#7201a8\"],[0.3333333333333333,\"#9c179e\"],[0.4444444444444444,\"#bd3786\"],[0.5555555555555556,\"#d8576b\"],[0.6666666666666666,\"#ed7953\"],[0.7777777777777778,\"#fb9f3a\"],[0.8888888888888888,\"#fdca26\"],[1.0,\"#f0f921\"]]}],\"choropleth\":[{\"type\":\"choropleth\",\"colorbar\":{\"outlinewidth\":0,\"ticks\":\"\"}}],\"histogram2d\":[{\"type\":\"histogram2d\",\"colorbar\":{\"outlinewidth\":0,\"ticks\":\"\"},\"colorscale\":[[0.0,\"#0d0887\"],[0.1111111111111111,\"#46039f\"],[0.2222222222222222,\"#7201a8\"],[0.3333333333333333,\"#9c179e\"],[0.4444444444444444,\"#bd3786\"],[0.5555555555555556,\"#d8576b\"],[0.6666666666666666,\"#ed7953\"],[0.7777777777777778,\"#fb9f3a\"],[0.8888888888888888,\"#fdca26\"],[1.0,\"#f0f921\"]]}],\"heatmap\":[{\"type\":\"heatmap\",\"colorbar\":{\"outlinewidth\":0,\"ticks\":\"\"},\"colorscale\":[[0.0,\"#0d0887\"],[0.1111111111111111,\"#46039f\"],[0.2222222222222222,\"#7201a8\"],[0.3333333333333333,\"#9c179e\"],[0.4444444444444444,\"#bd3786\"],[0.5555555555555556,\"#d8576b\"],[0.6666666666666666,\"#ed7953\"],[0.7777777777777778,\"#fb9f3a\"],[0.8888888888888888,\"#fdca26\"],[1.0,\"#f0f921\"]]}],\"heatmapgl\":[{\"type\":\"heatmapgl\",\"colorbar\":{\"outlinewidth\":0,\"ticks\":\"\"},\"colorscale\":[[0.0,\"#0d0887\"],[0.1111111111111111,\"#46039f\"],[0.2222222222222222,\"#7201a8\"],[0.3333333333333333,\"#9c179e\"],[0.4444444444444444,\"#bd3786\"],[0.5555555555555556,\"#d8576b\"],[0.6666666666666666,\"#ed7953\"],[0.7777777777777778,\"#fb9f3a\"],[0.8888888888888888,\"#fdca26\"],[1.0,\"#f0f921\"]]}],\"contourcarpet\":[{\"type\":\"contourcarpet\",\"colorbar\":{\"outlinewidth\":0,\"ticks\":\"\"}}],\"contour\":[{\"type\":\"contour\",\"colorbar\":{\"outlinewidth\":0,\"ticks\":\"\"},\"colorscale\":[[0.0,\"#0d0887\"],[0.1111111111111111,\"#46039f\"],[0.2222222222222222,\"#7201a8\"],[0.3333333333333333,\"#9c179e\"],[0.4444444444444444,\"#bd3786\"],[0.5555555555555556,\"#d8576b\"],[0.6666666666666666,\"#ed7953\"],[0.7777777777777778,\"#fb9f3a\"],[0.8888888888888888,\"#fdca26\"],[1.0,\"#f0f921\"]]}],\"surface\":[{\"type\":\"surface\",\"colorbar\":{\"outlinewidth\":0,\"ticks\":\"\"},\"colorscale\":[[0.0,\"#0d0887\"],[0.1111111111111111,\"#46039f\"],[0.2222222222222222,\"#7201a8\"],[0.3333333333333333,\"#9c179e\"],[0.4444444444444444,\"#bd3786\"],[0.5555555555555556,\"#d8576b\"],[0.6666666666666666,\"#ed7953\"],[0.7777777777777778,\"#fb9f3a\"],[0.8888888888888888,\"#fdca26\"],[1.0,\"#f0f921\"]]}],\"mesh3d\":[{\"type\":\"mesh3d\",\"colorbar\":{\"outlinewidth\":0,\"ticks\":\"\"}}],\"scatter\":[{\"fillpattern\":{\"fillmode\":\"overlay\",\"size\":10,\"solidity\":0.2},\"type\":\"scatter\"}],\"parcoords\":[{\"type\":\"parcoords\",\"line\":{\"colorbar\":{\"outlinewidth\":0,\"ticks\":\"\"}}}],\"scatterpolargl\":[{\"type\":\"scatterpolargl\",\"marker\":{\"colorbar\":{\"outlinewidth\":0,\"ticks\":\"\"}}}],\"bar\":[{\"error_x\":{\"color\":\"#2a3f5f\"},\"error_y\":{\"color\":\"#2a3f5f\"},\"marker\":{\"line\":{\"color\":\"#E5ECF6\",\"width\":0.5},\"pattern\":{\"fillmode\":\"overlay\",\"size\":10,\"solidity\":0.2}},\"type\":\"bar\"}],\"scattergeo\":[{\"type\":\"scattergeo\",\"marker\":{\"colorbar\":{\"outlinewidth\":0,\"ticks\":\"\"}}}],\"scatterpolar\":[{\"type\":\"scatterpolar\",\"marker\":{\"colorbar\":{\"outlinewidth\":0,\"ticks\":\"\"}}}],\"histogram\":[{\"marker\":{\"pattern\":{\"fillmode\":\"overlay\",\"size\":10,\"solidity\":0.2}},\"type\":\"histogram\"}],\"scattergl\":[{\"type\":\"scattergl\",\"marker\":{\"colorbar\":{\"outlinewidth\":0,\"ticks\":\"\"}}}],\"scatter3d\":[{\"type\":\"scatter3d\",\"line\":{\"colorbar\":{\"outlinewidth\":0,\"ticks\":\"\"}},\"marker\":{\"colorbar\":{\"outlinewidth\":0,\"ticks\":\"\"}}}],\"scattermapbox\":[{\"type\":\"scattermapbox\",\"marker\":{\"colorbar\":{\"outlinewidth\":0,\"ticks\":\"\"}}}],\"scatterternary\":[{\"type\":\"scatterternary\",\"marker\":{\"colorbar\":{\"outlinewidth\":0,\"ticks\":\"\"}}}],\"scattercarpet\":[{\"type\":\"scattercarpet\",\"marker\":{\"colorbar\":{\"outlinewidth\":0,\"ticks\":\"\"}}}],\"carpet\":[{\"aaxis\":{\"endlinecolor\":\"#2a3f5f\",\"gridcolor\":\"white\",\"linecolor\":\"white\",\"minorgridcolor\":\"white\",\"startlinecolor\":\"#2a3f5f\"},\"baxis\":{\"endlinecolor\":\"#2a3f5f\",\"gridcolor\":\"white\",\"linecolor\":\"white\",\"minorgridcolor\":\"white\",\"startlinecolor\":\"#2a3f5f\"},\"type\":\"carpet\"}],\"table\":[{\"cells\":{\"fill\":{\"color\":\"#EBF0F8\"},\"line\":{\"color\":\"white\"}},\"header\":{\"fill\":{\"color\":\"#C8D4E3\"},\"line\":{\"color\":\"white\"}},\"type\":\"table\"}],\"barpolar\":[{\"marker\":{\"line\":{\"color\":\"#E5ECF6\",\"width\":0.5},\"pattern\":{\"fillmode\":\"overlay\",\"size\":10,\"solidity\":0.2}},\"type\":\"barpolar\"}],\"pie\":[{\"automargin\":true,\"type\":\"pie\"}]},\"layout\":{\"autotypenumbers\":\"strict\",\"colorway\":[\"#636efa\",\"#EF553B\",\"#00cc96\",\"#ab63fa\",\"#FFA15A\",\"#19d3f3\",\"#FF6692\",\"#B6E880\",\"#FF97FF\",\"#FECB52\"],\"font\":{\"color\":\"#2a3f5f\"},\"hovermode\":\"closest\",\"hoverlabel\":{\"align\":\"left\"},\"paper_bgcolor\":\"white\",\"plot_bgcolor\":\"#E5ECF6\",\"polar\":{\"bgcolor\":\"#E5ECF6\",\"angularaxis\":{\"gridcolor\":\"white\",\"linecolor\":\"white\",\"ticks\":\"\"},\"radialaxis\":{\"gridcolor\":\"white\",\"linecolor\":\"white\",\"ticks\":\"\"}},\"ternary\":{\"bgcolor\":\"#E5ECF6\",\"aaxis\":{\"gridcolor\":\"white\",\"linecolor\":\"white\",\"ticks\":\"\"},\"baxis\":{\"gridcolor\":\"white\",\"linecolor\":\"white\",\"ticks\":\"\"},\"caxis\":{\"gridcolor\":\"white\",\"linecolor\":\"white\",\"ticks\":\"\"}},\"coloraxis\":{\"colorbar\":{\"outlinewidth\":0,\"ticks\":\"\"}},\"colorscale\":{\"sequential\":[[0.0,\"#0d0887\"],[0.1111111111111111,\"#46039f\"],[0.2222222222222222,\"#7201a8\"],[0.3333333333333333,\"#9c179e\"],[0.4444444444444444,\"#bd3786\"],[0.5555555555555556,\"#d8576b\"],[0.6666666666666666,\"#ed7953\"],[0.7777777777777778,\"#fb9f3a\"],[0.8888888888888888,\"#fdca26\"],[1.0,\"#f0f921\"]],\"sequentialminus\":[[0.0,\"#0d0887\"],[0.1111111111111111,\"#46039f\"],[0.2222222222222222,\"#7201a8\"],[0.3333333333333333,\"#9c179e\"],[0.4444444444444444,\"#bd3786\"],[0.5555555555555556,\"#d8576b\"],[0.6666666666666666,\"#ed7953\"],[0.7777777777777778,\"#fb9f3a\"],[0.8888888888888888,\"#fdca26\"],[1.0,\"#f0f921\"]],\"diverging\":[[0,\"#8e0152\"],[0.1,\"#c51b7d\"],[0.2,\"#de77ae\"],[0.3,\"#f1b6da\"],[0.4,\"#fde0ef\"],[0.5,\"#f7f7f7\"],[0.6,\"#e6f5d0\"],[0.7,\"#b8e186\"],[0.8,\"#7fbc41\"],[0.9,\"#4d9221\"],[1,\"#276419\"]]},\"xaxis\":{\"gridcolor\":\"white\",\"linecolor\":\"white\",\"ticks\":\"\",\"title\":{\"standoff\":15},\"zerolinecolor\":\"white\",\"automargin\":true,\"zerolinewidth\":2},\"yaxis\":{\"gridcolor\":\"white\",\"linecolor\":\"white\",\"ticks\":\"\",\"title\":{\"standoff\":15},\"zerolinecolor\":\"white\",\"automargin\":true,\"zerolinewidth\":2},\"scene\":{\"xaxis\":{\"backgroundcolor\":\"#E5ECF6\",\"gridcolor\":\"white\",\"linecolor\":\"white\",\"showbackground\":true,\"ticks\":\"\",\"zerolinecolor\":\"white\",\"gridwidth\":2},\"yaxis\":{\"backgroundcolor\":\"#E5ECF6\",\"gridcolor\":\"white\",\"linecolor\":\"white\",\"showbackground\":true,\"ticks\":\"\",\"zerolinecolor\":\"white\",\"gridwidth\":2},\"zaxis\":{\"backgroundcolor\":\"#E5ECF6\",\"gridcolor\":\"white\",\"linecolor\":\"white\",\"showbackground\":true,\"ticks\":\"\",\"zerolinecolor\":\"white\",\"gridwidth\":2}},\"shapedefaults\":{\"line\":{\"color\":\"#2a3f5f\"}},\"annotationdefaults\":{\"arrowcolor\":\"#2a3f5f\",\"arrowhead\":0,\"arrowwidth\":1},\"geo\":{\"bgcolor\":\"white\",\"landcolor\":\"#E5ECF6\",\"subunitcolor\":\"white\",\"showland\":true,\"showlakes\":true,\"lakecolor\":\"white\"},\"title\":{\"x\":0.05},\"mapbox\":{\"style\":\"light\"}}},\"xaxis\":{\"anchor\":\"y\",\"domain\":[0.0,1.0],\"title\":{\"text\":\"Solar Production\"}},\"yaxis\":{\"anchor\":\"x\",\"domain\":[0.0,1.0],\"title\":{\"text\":\"pred\"}},\"legend\":{\"tracegroupgap\":0},\"title\":{\"text\":\"Predicted Solar Production vs Actual Solar production Map:)\"}},                        {\"responsive\": true}                    ).then(function(){\n",
       "                            \n",
       "var gd = document.getElementById('64b91665-7768-42ab-aca9-f66eb81e5b01');\n",
       "var x = new MutationObserver(function (mutations, observer) {{\n",
       "        var display = window.getComputedStyle(gd).display;\n",
       "        if (!display || display === 'none') {{\n",
       "            console.log([gd, 'removed!']);\n",
       "            Plotly.purge(gd);\n",
       "            observer.disconnect();\n",
       "        }}\n",
       "}});\n",
       "\n",
       "// Listen for the removal of the full notebook cells\n",
       "var notebookContainer = gd.closest('#notebook-container');\n",
       "if (notebookContainer) {{\n",
       "    x.observe(notebookContainer, {childList: true});\n",
       "}}\n",
       "\n",
       "// Listen for the clearing of the current output cell\n",
       "var outputEl = gd.closest('.output');\n",
       "if (outputEl) {{\n",
       "    x.observe(outputEl, {childList: true});\n",
       "}}\n",
       "\n",
       "                        })                };                });            </script>        </div>"
      ]
     },
     "metadata": {},
     "output_type": "display_data"
    }
   ],
   "source": [
    "\n",
    "import plotly.express as px\n",
    "px.line(y_test.sort_values('Solar Production'),x='Solar Production',y='pred',title='Predicted Solar Production vs Actual Solar production Map:)')"
   ]
  },
  {
   "cell_type": "code",
   "execution_count": 31,
   "id": "2c9eb2ac",
   "metadata": {
    "scrolled": true
   },
   "outputs": [
    {
     "data": {
      "text/plain": [
       "0.7121038496640085"
      ]
     },
     "execution_count": 31,
     "metadata": {},
     "output_type": "execute_result"
    }
   ],
   "source": [
    "from sklearn.metrics import r2_score\n",
    "r2_score(y_test ,y_pred)"
   ]
  },
  {
   "cell_type": "code",
   "execution_count": null,
   "id": "60538985",
   "metadata": {},
   "outputs": [],
   "source": []
  }
 ],
 "metadata": {
  "kernelspec": {
   "display_name": "Python 3 (ipykernel)",
   "language": "python",
   "name": "python3"
  },
  "language_info": {
   "codemirror_mode": {
    "name": "ipython",
    "version": 3
   },
   "file_extension": ".py",
   "mimetype": "text/x-python",
   "name": "python",
   "nbconvert_exporter": "python",
   "pygments_lexer": "ipython3",
   "version": "3.9.13"
  }
 },
 "nbformat": 4,
 "nbformat_minor": 5
}
